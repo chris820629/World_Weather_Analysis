{
 "cells": [
  {
   "cell_type": "code",
   "execution_count": 1,
   "id": "5bbdec78",
   "metadata": {},
   "outputs": [],
   "source": [
    "import pandas as pd\n",
    "import gmaps\n",
    "import requests\n",
    "# Import the API key.\n",
    "from config import g_key"
   ]
  },
  {
   "cell_type": "code",
   "execution_count": 2,
   "id": "598d22fb",
   "metadata": {},
   "outputs": [
    {
     "data": {
      "text/html": [
       "<div>\n",
       "<style scoped>\n",
       "    .dataframe tbody tr th:only-of-type {\n",
       "        vertical-align: middle;\n",
       "    }\n",
       "\n",
       "    .dataframe tbody tr th {\n",
       "        vertical-align: top;\n",
       "    }\n",
       "\n",
       "    .dataframe thead th {\n",
       "        text-align: right;\n",
       "    }\n",
       "</style>\n",
       "<table border=\"1\" class=\"dataframe\">\n",
       "  <thead>\n",
       "    <tr style=\"text-align: right;\">\n",
       "      <th></th>\n",
       "      <th>City_ID</th>\n",
       "      <th>City</th>\n",
       "      <th>Country</th>\n",
       "      <th>Date</th>\n",
       "      <th>Lat</th>\n",
       "      <th>Lng</th>\n",
       "      <th>Max Temp</th>\n",
       "      <th>Humidity</th>\n",
       "      <th>Cloudiness</th>\n",
       "      <th>Wind Speed</th>\n",
       "    </tr>\n",
       "  </thead>\n",
       "  <tbody>\n",
       "    <tr>\n",
       "      <th>0</th>\n",
       "      <td>0</td>\n",
       "      <td>Bukachacha</td>\n",
       "      <td>RU</td>\n",
       "      <td>2022-09-21 04:04:40</td>\n",
       "      <td>52.9833</td>\n",
       "      <td>116.9167</td>\n",
       "      <td>53.26</td>\n",
       "      <td>49</td>\n",
       "      <td>36</td>\n",
       "      <td>7.07</td>\n",
       "    </tr>\n",
       "    <tr>\n",
       "      <th>1</th>\n",
       "      <td>1</td>\n",
       "      <td>Ushuaia</td>\n",
       "      <td>AR</td>\n",
       "      <td>2022-09-21 04:00:46</td>\n",
       "      <td>-54.8000</td>\n",
       "      <td>-68.3000</td>\n",
       "      <td>35.10</td>\n",
       "      <td>93</td>\n",
       "      <td>85</td>\n",
       "      <td>8.57</td>\n",
       "    </tr>\n",
       "    <tr>\n",
       "      <th>2</th>\n",
       "      <td>2</td>\n",
       "      <td>Bethel</td>\n",
       "      <td>US</td>\n",
       "      <td>2022-09-21 04:01:12</td>\n",
       "      <td>41.3712</td>\n",
       "      <td>-73.4140</td>\n",
       "      <td>63.75</td>\n",
       "      <td>78</td>\n",
       "      <td>0</td>\n",
       "      <td>3.94</td>\n",
       "    </tr>\n",
       "    <tr>\n",
       "      <th>3</th>\n",
       "      <td>3</td>\n",
       "      <td>Esperance</td>\n",
       "      <td>AU</td>\n",
       "      <td>2022-09-21 04:04:41</td>\n",
       "      <td>-33.8667</td>\n",
       "      <td>121.9000</td>\n",
       "      <td>67.26</td>\n",
       "      <td>50</td>\n",
       "      <td>0</td>\n",
       "      <td>11.23</td>\n",
       "    </tr>\n",
       "    <tr>\n",
       "      <th>4</th>\n",
       "      <td>4</td>\n",
       "      <td>Luancheng</td>\n",
       "      <td>CN</td>\n",
       "      <td>2022-09-21 04:04:41</td>\n",
       "      <td>37.8792</td>\n",
       "      <td>114.6517</td>\n",
       "      <td>79.29</td>\n",
       "      <td>37</td>\n",
       "      <td>2</td>\n",
       "      <td>6.58</td>\n",
       "    </tr>\n",
       "  </tbody>\n",
       "</table>\n",
       "</div>"
      ],
      "text/plain": [
       "   City_ID        City Country                 Date      Lat       Lng  \\\n",
       "0        0  Bukachacha      RU  2022-09-21 04:04:40  52.9833  116.9167   \n",
       "1        1     Ushuaia      AR  2022-09-21 04:00:46 -54.8000  -68.3000   \n",
       "2        2      Bethel      US  2022-09-21 04:01:12  41.3712  -73.4140   \n",
       "3        3   Esperance      AU  2022-09-21 04:04:41 -33.8667  121.9000   \n",
       "4        4   Luancheng      CN  2022-09-21 04:04:41  37.8792  114.6517   \n",
       "\n",
       "   Max Temp  Humidity  Cloudiness  Wind Speed  \n",
       "0     53.26        49          36        7.07  \n",
       "1     35.10        93          85        8.57  \n",
       "2     63.75        78           0        3.94  \n",
       "3     67.26        50           0       11.23  \n",
       "4     79.29        37           2        6.58  "
      ]
     },
     "execution_count": 2,
     "metadata": {},
     "output_type": "execute_result"
    }
   ],
   "source": [
    "city_data_df = pd.read_csv(\"weather_data/cities.csv\")\n",
    "city_data_df.head()"
   ]
  },
  {
   "cell_type": "code",
   "execution_count": 3,
   "id": "bbc53a93",
   "metadata": {},
   "outputs": [
    {
     "data": {
      "text/plain": [
       "City_ID         int64\n",
       "City           object\n",
       "Country        object\n",
       "Date           object\n",
       "Lat           float64\n",
       "Lng           float64\n",
       "Max Temp      float64\n",
       "Humidity        int64\n",
       "Cloudiness      int64\n",
       "Wind Speed    float64\n",
       "dtype: object"
      ]
     },
     "execution_count": 3,
     "metadata": {},
     "output_type": "execute_result"
    }
   ],
   "source": [
    "city_data_df.dtypes"
   ]
  },
  {
   "cell_type": "code",
   "execution_count": 4,
   "id": "6368fc57",
   "metadata": {},
   "outputs": [],
   "source": [
    "gmaps.configure(api_key = g_key)"
   ]
  },
  {
   "cell_type": "code",
   "execution_count": 5,
   "id": "63d7eae8",
   "metadata": {},
   "outputs": [
    {
     "data": {
      "application/vnd.jupyter.widget-view+json": {
       "model_id": "cf0504fdf8b946ca8987039a5aeb6d4b",
       "version_major": 2,
       "version_minor": 0
      },
      "text/plain": [
       "Figure(layout=FigureLayout(height='420px'))"
      ]
     },
     "metadata": {},
     "output_type": "display_data"
    }
   ],
   "source": [
    "# Heatmap of temperature\n",
    "# Get the latitude and longitude.\n",
    "locations = city_data_df[[\"Lat\", \"Lng\"]]\n",
    "# Get the maximum temperature.\n",
    "max_temp = city_data_df[\"Max Temp\"]\n",
    "# Assign the figure variable.\n",
    "fig = gmaps.figure()\n",
    "# Assign the heatmap variable.\n",
    "heat_layer = gmaps.heatmap_layer(locations, weights=max_temp)\n",
    "# Add the heatmap layer.\n",
    "fig.add_layer(heat_layer)\n",
    "# Call the figure to plot the data.\n",
    "fig"
   ]
  },
  {
   "cell_type": "code",
   "execution_count": 10,
   "id": "1cf75966",
   "metadata": {},
   "outputs": [],
   "source": [
    "max_temp = city_data_df[\"Max Temp\"]\n",
    "temps = []\n",
    "for temp in max_temp:\n",
    "    temps.append(max(temp, 0))"
   ]
  },
  {
   "cell_type": "code",
   "execution_count": 11,
   "id": "b893e801",
   "metadata": {},
   "outputs": [],
   "source": [
    "heat_layer = gmaps.heatmap_layer(locations, weights=temps)"
   ]
  },
  {
   "cell_type": "code",
   "execution_count": 15,
   "id": "e438555b",
   "metadata": {},
   "outputs": [
    {
     "data": {
      "application/vnd.jupyter.widget-view+json": {
       "model_id": "00f8caae8d484d91bee102e822fff631",
       "version_major": 2,
       "version_minor": 0
      },
      "text/plain": [
       "Figure(layout=FigureLayout(height='420px'))"
      ]
     },
     "metadata": {},
     "output_type": "display_data"
    }
   ],
   "source": [
    "fig = gmaps.figure(center=(30.0, 31.0), zoom_level=1.5)\n",
    "# Assign the heatmap variable.\n",
    "heat_layer = gmaps.heatmap_layer(locations, weights=[max(temp, 0) for temp in max_temp], dissipating=False, max_intensity=300, point_radius=4)\n",
    "fig.add_layer(heat_layer)\n",
    "# Call the figure to plot the data.\n",
    "\n",
    "fig"
   ]
  },
  {
   "cell_type": "code",
   "execution_count": 19,
   "id": "b5833d05",
   "metadata": {},
   "outputs": [
    {
     "data": {
      "application/vnd.jupyter.widget-view+json": {
       "model_id": "ceeab58fb79441debddeb45014cb3471",
       "version_major": 2,
       "version_minor": 0
      },
      "text/plain": [
       "Figure(layout=FigureLayout(height='420px'))"
      ]
     },
     "metadata": {},
     "output_type": "display_data"
    }
   ],
   "source": [
    "# Heatmap of percent humidity\n",
    "locations = city_data_df[[\"Lat\", \"Lng\"]]\n",
    "humidity = city_data_df[\"Humidity\"]\n",
    "fig = gmaps.figure(center=(30.0, 31.0), zoom_level=1.5)\n",
    "heat_layer = gmaps.heatmap_layer(locations, weights=humidity, dissipating=False, max_intensity=200, point_radius=4)\n",
    "\n",
    "fig.add_layer(heat_layer)\n",
    "# Call the figure to plot the data.\n",
    "fig"
   ]
  },
  {
   "cell_type": "code",
   "execution_count": 21,
   "id": "505f6ab7",
   "metadata": {},
   "outputs": [
    {
     "data": {
      "application/vnd.jupyter.widget-view+json": {
       "model_id": "c578227035d94a8daea36255936643a4",
       "version_major": 2,
       "version_minor": 0
      },
      "text/plain": [
       "Figure(layout=FigureLayout(height='420px'))"
      ]
     },
     "metadata": {},
     "output_type": "display_data"
    }
   ],
   "source": [
    "# Heatmap of percent cloudiness\n",
    "locations = city_data_df[[\"Lat\", \"Lng\"]]\n",
    "clouds = city_data_df[\"Cloudiness\"]\n",
    "fig = gmaps.figure(center=(30.0, 31.0), zoom_level=1.5)\n",
    "heat_layer = gmaps.heatmap_layer(locations, weights=clouds, dissipating=False, max_intensity=200, point_radius=4)\n",
    "\n",
    "fig.add_layer(heat_layer)\n",
    "# Call the figure to plot the data.\n",
    "fig"
   ]
  },
  {
   "cell_type": "code",
   "execution_count": 23,
   "id": "b26ad164",
   "metadata": {},
   "outputs": [
    {
     "data": {
      "application/vnd.jupyter.widget-view+json": {
       "model_id": "c008541dd7f14a8f97f72b050a14abab",
       "version_major": 2,
       "version_minor": 0
      },
      "text/plain": [
       "Figure(layout=FigureLayout(height='420px'))"
      ]
     },
     "metadata": {},
     "output_type": "display_data"
    }
   ],
   "source": [
    "# Heatmap of percent Wind Speed\n",
    "locations = city_data_df[[\"Lat\", \"Lng\"]]\n",
    "wind = city_data_df[\"Wind Speed\"]\n",
    "fig = gmaps.figure(center=(30.0, 31.0), zoom_level=1.5)\n",
    "heat_layer = gmaps.heatmap_layer(locations, weights=wind, dissipating=False, max_intensity=200, point_radius=4)\n",
    "\n",
    "fig.add_layer(heat_layer)\n",
    "# Call the figure to plot the data.\n",
    "fig"
   ]
  },
  {
   "cell_type": "code",
   "execution_count": 24,
   "id": "ee2ab370",
   "metadata": {},
   "outputs": [
    {
     "name": "stdout",
     "output_type": "stream",
     "text": [
      "What is the minimum temperature you would like for your trip? 75\n",
      "What is the maximum temperature you would like for your trip? 90\n"
     ]
    }
   ],
   "source": [
    "min_temp = float(input(\"What is the minimum temperature you would like for your trip? \"))\n",
    "max_temp = float(input(\"What is the maximum temperature you would like for your trip? \"))"
   ]
  },
  {
   "cell_type": "code",
   "execution_count": 27,
   "id": "47ec6752",
   "metadata": {},
   "outputs": [
    {
     "data": {
      "text/html": [
       "<div>\n",
       "<style scoped>\n",
       "    .dataframe tbody tr th:only-of-type {\n",
       "        vertical-align: middle;\n",
       "    }\n",
       "\n",
       "    .dataframe tbody tr th {\n",
       "        vertical-align: top;\n",
       "    }\n",
       "\n",
       "    .dataframe thead th {\n",
       "        text-align: right;\n",
       "    }\n",
       "</style>\n",
       "<table border=\"1\" class=\"dataframe\">\n",
       "  <thead>\n",
       "    <tr style=\"text-align: right;\">\n",
       "      <th></th>\n",
       "      <th>City_ID</th>\n",
       "      <th>City</th>\n",
       "      <th>Country</th>\n",
       "      <th>Date</th>\n",
       "      <th>Lat</th>\n",
       "      <th>Lng</th>\n",
       "      <th>Max Temp</th>\n",
       "      <th>Humidity</th>\n",
       "      <th>Cloudiness</th>\n",
       "      <th>Wind Speed</th>\n",
       "    </tr>\n",
       "  </thead>\n",
       "  <tbody>\n",
       "    <tr>\n",
       "      <th>4</th>\n",
       "      <td>4</td>\n",
       "      <td>Luancheng</td>\n",
       "      <td>CN</td>\n",
       "      <td>2022-09-21 04:04:41</td>\n",
       "      <td>37.8792</td>\n",
       "      <td>114.6517</td>\n",
       "      <td>79.29</td>\n",
       "      <td>37</td>\n",
       "      <td>2</td>\n",
       "      <td>6.58</td>\n",
       "    </tr>\n",
       "    <tr>\n",
       "      <th>5</th>\n",
       "      <td>5</td>\n",
       "      <td>Tabou</td>\n",
       "      <td>CI</td>\n",
       "      <td>2022-09-21 04:04:42</td>\n",
       "      <td>4.4230</td>\n",
       "      <td>-7.3528</td>\n",
       "      <td>75.25</td>\n",
       "      <td>88</td>\n",
       "      <td>100</td>\n",
       "      <td>7.56</td>\n",
       "    </tr>\n",
       "    <tr>\n",
       "      <th>12</th>\n",
       "      <td>12</td>\n",
       "      <td>Cozumel</td>\n",
       "      <td>MX</td>\n",
       "      <td>2022-09-21 04:02:02</td>\n",
       "      <td>20.5083</td>\n",
       "      <td>-86.9458</td>\n",
       "      <td>76.95</td>\n",
       "      <td>92</td>\n",
       "      <td>10</td>\n",
       "      <td>7.31</td>\n",
       "    </tr>\n",
       "    <tr>\n",
       "      <th>15</th>\n",
       "      <td>15</td>\n",
       "      <td>Cabo San Lucas</td>\n",
       "      <td>MX</td>\n",
       "      <td>2022-09-21 04:00:02</td>\n",
       "      <td>22.8909</td>\n",
       "      <td>-109.9124</td>\n",
       "      <td>79.52</td>\n",
       "      <td>88</td>\n",
       "      <td>85</td>\n",
       "      <td>1.99</td>\n",
       "    </tr>\n",
       "    <tr>\n",
       "      <th>17</th>\n",
       "      <td>17</td>\n",
       "      <td>Vaini</td>\n",
       "      <td>TO</td>\n",
       "      <td>2022-09-21 04:04:46</td>\n",
       "      <td>-21.2000</td>\n",
       "      <td>-175.2000</td>\n",
       "      <td>75.36</td>\n",
       "      <td>88</td>\n",
       "      <td>75</td>\n",
       "      <td>9.22</td>\n",
       "    </tr>\n",
       "    <tr>\n",
       "      <th>18</th>\n",
       "      <td>18</td>\n",
       "      <td>Koumac</td>\n",
       "      <td>NC</td>\n",
       "      <td>2022-09-21 04:04:46</td>\n",
       "      <td>-20.5667</td>\n",
       "      <td>164.2833</td>\n",
       "      <td>78.80</td>\n",
       "      <td>71</td>\n",
       "      <td>9</td>\n",
       "      <td>10.22</td>\n",
       "    </tr>\n",
       "    <tr>\n",
       "      <th>21</th>\n",
       "      <td>21</td>\n",
       "      <td>Saint George</td>\n",
       "      <td>US</td>\n",
       "      <td>2022-09-21 04:01:02</td>\n",
       "      <td>37.1041</td>\n",
       "      <td>-113.5841</td>\n",
       "      <td>82.94</td>\n",
       "      <td>27</td>\n",
       "      <td>0</td>\n",
       "      <td>4.61</td>\n",
       "    </tr>\n",
       "    <tr>\n",
       "      <th>24</th>\n",
       "      <td>24</td>\n",
       "      <td>Isangel</td>\n",
       "      <td>VU</td>\n",
       "      <td>2022-09-21 04:04:49</td>\n",
       "      <td>-19.5500</td>\n",
       "      <td>169.2667</td>\n",
       "      <td>80.06</td>\n",
       "      <td>72</td>\n",
       "      <td>8</td>\n",
       "      <td>3.33</td>\n",
       "    </tr>\n",
       "    <tr>\n",
       "      <th>25</th>\n",
       "      <td>25</td>\n",
       "      <td>Kinablangan</td>\n",
       "      <td>PH</td>\n",
       "      <td>2022-09-21 04:04:49</td>\n",
       "      <td>7.6947</td>\n",
       "      <td>126.5503</td>\n",
       "      <td>85.46</td>\n",
       "      <td>70</td>\n",
       "      <td>94</td>\n",
       "      <td>5.97</td>\n",
       "    </tr>\n",
       "    <tr>\n",
       "      <th>26</th>\n",
       "      <td>26</td>\n",
       "      <td>Gao</td>\n",
       "      <td>ML</td>\n",
       "      <td>2022-09-21 04:01:50</td>\n",
       "      <td>16.6362</td>\n",
       "      <td>1.6370</td>\n",
       "      <td>82.20</td>\n",
       "      <td>63</td>\n",
       "      <td>10</td>\n",
       "      <td>10.22</td>\n",
       "    </tr>\n",
       "  </tbody>\n",
       "</table>\n",
       "</div>"
      ],
      "text/plain": [
       "    City_ID            City Country                 Date      Lat       Lng  \\\n",
       "4         4       Luancheng      CN  2022-09-21 04:04:41  37.8792  114.6517   \n",
       "5         5           Tabou      CI  2022-09-21 04:04:42   4.4230   -7.3528   \n",
       "12       12         Cozumel      MX  2022-09-21 04:02:02  20.5083  -86.9458   \n",
       "15       15  Cabo San Lucas      MX  2022-09-21 04:00:02  22.8909 -109.9124   \n",
       "17       17           Vaini      TO  2022-09-21 04:04:46 -21.2000 -175.2000   \n",
       "18       18          Koumac      NC  2022-09-21 04:04:46 -20.5667  164.2833   \n",
       "21       21    Saint George      US  2022-09-21 04:01:02  37.1041 -113.5841   \n",
       "24       24         Isangel      VU  2022-09-21 04:04:49 -19.5500  169.2667   \n",
       "25       25     Kinablangan      PH  2022-09-21 04:04:49   7.6947  126.5503   \n",
       "26       26             Gao      ML  2022-09-21 04:01:50  16.6362    1.6370   \n",
       "\n",
       "    Max Temp  Humidity  Cloudiness  Wind Speed  \n",
       "4      79.29        37           2        6.58  \n",
       "5      75.25        88         100        7.56  \n",
       "12     76.95        92          10        7.31  \n",
       "15     79.52        88          85        1.99  \n",
       "17     75.36        88          75        9.22  \n",
       "18     78.80        71           9       10.22  \n",
       "21     82.94        27           0        4.61  \n",
       "24     80.06        72           8        3.33  \n",
       "25     85.46        70          94        5.97  \n",
       "26     82.20        63          10       10.22  "
      ]
     },
     "execution_count": 27,
     "metadata": {},
     "output_type": "execute_result"
    }
   ],
   "source": [
    "preferred_cities_df = city_data_df.loc[(city_data_df[\"Max Temp\"] <= max_temp) & \\\n",
    "                                       (city_data_df[\"Max Temp\"] >= min_temp)]\n",
    "preferred_cities_df.head(10)"
   ]
  },
  {
   "cell_type": "code",
   "execution_count": 28,
   "id": "5b9a886e",
   "metadata": {},
   "outputs": [
    {
     "data": {
      "text/plain": [
       "City_ID       12\n",
       "City          12\n",
       "Country       12\n",
       "Date          12\n",
       "Lat           12\n",
       "Lng           12\n",
       "Max Temp      12\n",
       "Humidity      12\n",
       "Cloudiness    12\n",
       "Wind Speed    12\n",
       "dtype: int64"
      ]
     },
     "execution_count": 28,
     "metadata": {},
     "output_type": "execute_result"
    }
   ],
   "source": [
    "preferred_cities_df.count()"
   ]
  },
  {
   "cell_type": "code",
   "execution_count": 29,
   "id": "b9f1a446",
   "metadata": {},
   "outputs": [
    {
     "data": {
      "text/html": [
       "<div>\n",
       "<style scoped>\n",
       "    .dataframe tbody tr th:only-of-type {\n",
       "        vertical-align: middle;\n",
       "    }\n",
       "\n",
       "    .dataframe tbody tr th {\n",
       "        vertical-align: top;\n",
       "    }\n",
       "\n",
       "    .dataframe thead th {\n",
       "        text-align: right;\n",
       "    }\n",
       "</style>\n",
       "<table border=\"1\" class=\"dataframe\">\n",
       "  <thead>\n",
       "    <tr style=\"text-align: right;\">\n",
       "      <th></th>\n",
       "      <th>City</th>\n",
       "      <th>Country</th>\n",
       "      <th>Max Temp</th>\n",
       "      <th>Lat</th>\n",
       "      <th>Lng</th>\n",
       "      <th>Hotel Name</th>\n",
       "    </tr>\n",
       "  </thead>\n",
       "  <tbody>\n",
       "    <tr>\n",
       "      <th>4</th>\n",
       "      <td>Luancheng</td>\n",
       "      <td>CN</td>\n",
       "      <td>79.29</td>\n",
       "      <td>37.8792</td>\n",
       "      <td>114.6517</td>\n",
       "      <td></td>\n",
       "    </tr>\n",
       "    <tr>\n",
       "      <th>5</th>\n",
       "      <td>Tabou</td>\n",
       "      <td>CI</td>\n",
       "      <td>75.25</td>\n",
       "      <td>4.4230</td>\n",
       "      <td>-7.3528</td>\n",
       "      <td></td>\n",
       "    </tr>\n",
       "    <tr>\n",
       "      <th>12</th>\n",
       "      <td>Cozumel</td>\n",
       "      <td>MX</td>\n",
       "      <td>76.95</td>\n",
       "      <td>20.5083</td>\n",
       "      <td>-86.9458</td>\n",
       "      <td></td>\n",
       "    </tr>\n",
       "    <tr>\n",
       "      <th>15</th>\n",
       "      <td>Cabo San Lucas</td>\n",
       "      <td>MX</td>\n",
       "      <td>79.52</td>\n",
       "      <td>22.8909</td>\n",
       "      <td>-109.9124</td>\n",
       "      <td></td>\n",
       "    </tr>\n",
       "    <tr>\n",
       "      <th>17</th>\n",
       "      <td>Vaini</td>\n",
       "      <td>TO</td>\n",
       "      <td>75.36</td>\n",
       "      <td>-21.2000</td>\n",
       "      <td>-175.2000</td>\n",
       "      <td></td>\n",
       "    </tr>\n",
       "    <tr>\n",
       "      <th>18</th>\n",
       "      <td>Koumac</td>\n",
       "      <td>NC</td>\n",
       "      <td>78.80</td>\n",
       "      <td>-20.5667</td>\n",
       "      <td>164.2833</td>\n",
       "      <td></td>\n",
       "    </tr>\n",
       "    <tr>\n",
       "      <th>21</th>\n",
       "      <td>Saint George</td>\n",
       "      <td>US</td>\n",
       "      <td>82.94</td>\n",
       "      <td>37.1041</td>\n",
       "      <td>-113.5841</td>\n",
       "      <td></td>\n",
       "    </tr>\n",
       "    <tr>\n",
       "      <th>24</th>\n",
       "      <td>Isangel</td>\n",
       "      <td>VU</td>\n",
       "      <td>80.06</td>\n",
       "      <td>-19.5500</td>\n",
       "      <td>169.2667</td>\n",
       "      <td></td>\n",
       "    </tr>\n",
       "    <tr>\n",
       "      <th>25</th>\n",
       "      <td>Kinablangan</td>\n",
       "      <td>PH</td>\n",
       "      <td>85.46</td>\n",
       "      <td>7.6947</td>\n",
       "      <td>126.5503</td>\n",
       "      <td></td>\n",
       "    </tr>\n",
       "    <tr>\n",
       "      <th>26</th>\n",
       "      <td>Gao</td>\n",
       "      <td>ML</td>\n",
       "      <td>82.20</td>\n",
       "      <td>16.6362</td>\n",
       "      <td>1.6370</td>\n",
       "      <td></td>\n",
       "    </tr>\n",
       "  </tbody>\n",
       "</table>\n",
       "</div>"
      ],
      "text/plain": [
       "              City Country  Max Temp      Lat       Lng Hotel Name\n",
       "4        Luancheng      CN     79.29  37.8792  114.6517           \n",
       "5            Tabou      CI     75.25   4.4230   -7.3528           \n",
       "12         Cozumel      MX     76.95  20.5083  -86.9458           \n",
       "15  Cabo San Lucas      MX     79.52  22.8909 -109.9124           \n",
       "17           Vaini      TO     75.36 -21.2000 -175.2000           \n",
       "18          Koumac      NC     78.80 -20.5667  164.2833           \n",
       "21    Saint George      US     82.94  37.1041 -113.5841           \n",
       "24         Isangel      VU     80.06 -19.5500  169.2667           \n",
       "25     Kinablangan      PH     85.46   7.6947  126.5503           \n",
       "26             Gao      ML     82.20  16.6362    1.6370           "
      ]
     },
     "execution_count": 29,
     "metadata": {},
     "output_type": "execute_result"
    }
   ],
   "source": [
    "hotel_df = preferred_cities_df[[\"City\", \"Country\", \"Max Temp\", \"Lat\", \"Lng\"]].copy()\n",
    "hotel_df[\"Hotel Name\"] = \"\"\n",
    "hotel_df.head(10)"
   ]
  },
  {
   "cell_type": "code",
   "execution_count": 30,
   "id": "6cd416b2",
   "metadata": {},
   "outputs": [],
   "source": [
    "params = {\n",
    "    \"radius\": 5000,\n",
    "    \"type\": \"lodging\",\n",
    "    \"key\": g_key\n",
    "}"
   ]
  },
  {
   "cell_type": "code",
   "execution_count": 33,
   "id": "795bd9eb",
   "metadata": {},
   "outputs": [
    {
     "name": "stdout",
     "output_type": "stream",
     "text": [
      "Hotel not found..skipping\n"
     ]
    }
   ],
   "source": [
    "# Iterate through the DataFrame.\n",
    "for index, row in hotel_df.iterrows():\n",
    "    # Get the latitude and longitude.\n",
    "    lat = row[\"Lat\"]\n",
    "    lng = row[\"Lng\"]\n",
    "\n",
    "    # Add the latitude and longitude to location key for the params dictionary.\n",
    "    params[\"location\"] = f\"{lat},{lng}\"\n",
    "\n",
    "    # Use the search term: \"lodging\" and our latitude and longitude.\n",
    "    base_url = \"https://maps.googleapis.com/maps/api/place/nearbysearch/json\"\n",
    "    # Make request and get the JSON data from the search.\n",
    "    hotels = requests.get(base_url, params=params).json()\n",
    "    # Grab the first hotel from the results and store the name.\n",
    "    try:\n",
    "        hotel_df.loc[index, \"Hotel Name\"] = hotels[\"results\"][0][\"name\"]\n",
    "    except (IndexError):\n",
    "        print(\"Hotel not found..skipping\")"
   ]
  },
  {
   "cell_type": "code",
   "execution_count": 34,
   "id": "8b94744c",
   "metadata": {},
   "outputs": [
    {
     "data": {
      "text/html": [
       "<div>\n",
       "<style scoped>\n",
       "    .dataframe tbody tr th:only-of-type {\n",
       "        vertical-align: middle;\n",
       "    }\n",
       "\n",
       "    .dataframe tbody tr th {\n",
       "        vertical-align: top;\n",
       "    }\n",
       "\n",
       "    .dataframe thead th {\n",
       "        text-align: right;\n",
       "    }\n",
       "</style>\n",
       "<table border=\"1\" class=\"dataframe\">\n",
       "  <thead>\n",
       "    <tr style=\"text-align: right;\">\n",
       "      <th></th>\n",
       "      <th>City</th>\n",
       "      <th>Country</th>\n",
       "      <th>Max Temp</th>\n",
       "      <th>Lat</th>\n",
       "      <th>Lng</th>\n",
       "      <th>Hotel Name</th>\n",
       "    </tr>\n",
       "  </thead>\n",
       "  <tbody>\n",
       "    <tr>\n",
       "      <th>4</th>\n",
       "      <td>Luancheng</td>\n",
       "      <td>CN</td>\n",
       "      <td>79.29</td>\n",
       "      <td>37.8792</td>\n",
       "      <td>114.6517</td>\n",
       "      <td>Shell Hebei Shijiazhuang Luancheng Xinyuan Roa...</td>\n",
       "    </tr>\n",
       "    <tr>\n",
       "      <th>5</th>\n",
       "      <td>Tabou</td>\n",
       "      <td>CI</td>\n",
       "      <td>75.25</td>\n",
       "      <td>4.4230</td>\n",
       "      <td>-7.3528</td>\n",
       "      <td>hotêl doufoulougou</td>\n",
       "    </tr>\n",
       "    <tr>\n",
       "      <th>12</th>\n",
       "      <td>Cozumel</td>\n",
       "      <td>MX</td>\n",
       "      <td>76.95</td>\n",
       "      <td>20.5083</td>\n",
       "      <td>-86.9458</td>\n",
       "      <td>Cozumel Palace® All Inclusive Resort</td>\n",
       "    </tr>\n",
       "    <tr>\n",
       "      <th>15</th>\n",
       "      <td>Cabo San Lucas</td>\n",
       "      <td>MX</td>\n",
       "      <td>79.52</td>\n",
       "      <td>22.8909</td>\n",
       "      <td>-109.9124</td>\n",
       "      <td>Hotel Tesoro Los Cabos</td>\n",
       "    </tr>\n",
       "    <tr>\n",
       "      <th>17</th>\n",
       "      <td>Vaini</td>\n",
       "      <td>TO</td>\n",
       "      <td>75.36</td>\n",
       "      <td>-21.2000</td>\n",
       "      <td>-175.2000</td>\n",
       "      <td>Keleti Beach Resort</td>\n",
       "    </tr>\n",
       "    <tr>\n",
       "      <th>18</th>\n",
       "      <td>Koumac</td>\n",
       "      <td>NC</td>\n",
       "      <td>78.80</td>\n",
       "      <td>-20.5667</td>\n",
       "      <td>164.2833</td>\n",
       "      <td>Le Monitel</td>\n",
       "    </tr>\n",
       "    <tr>\n",
       "      <th>21</th>\n",
       "      <td>Saint George</td>\n",
       "      <td>US</td>\n",
       "      <td>82.94</td>\n",
       "      <td>37.1041</td>\n",
       "      <td>-113.5841</td>\n",
       "      <td>Best Western Plus Abbey Inn</td>\n",
       "    </tr>\n",
       "    <tr>\n",
       "      <th>24</th>\n",
       "      <td>Isangel</td>\n",
       "      <td>VU</td>\n",
       "      <td>80.06</td>\n",
       "      <td>-19.5500</td>\n",
       "      <td>169.2667</td>\n",
       "      <td>Tanna Lodge</td>\n",
       "    </tr>\n",
       "    <tr>\n",
       "      <th>25</th>\n",
       "      <td>Kinablangan</td>\n",
       "      <td>PH</td>\n",
       "      <td>85.46</td>\n",
       "      <td>7.6947</td>\n",
       "      <td>126.5503</td>\n",
       "      <td>Morales Eatery and Lodging House</td>\n",
       "    </tr>\n",
       "    <tr>\n",
       "      <th>26</th>\n",
       "      <td>Gao</td>\n",
       "      <td>ML</td>\n",
       "      <td>82.20</td>\n",
       "      <td>16.6362</td>\n",
       "      <td>1.6370</td>\n",
       "      <td></td>\n",
       "    </tr>\n",
       "  </tbody>\n",
       "</table>\n",
       "</div>"
      ],
      "text/plain": [
       "              City Country  Max Temp      Lat       Lng  \\\n",
       "4        Luancheng      CN     79.29  37.8792  114.6517   \n",
       "5            Tabou      CI     75.25   4.4230   -7.3528   \n",
       "12         Cozumel      MX     76.95  20.5083  -86.9458   \n",
       "15  Cabo San Lucas      MX     79.52  22.8909 -109.9124   \n",
       "17           Vaini      TO     75.36 -21.2000 -175.2000   \n",
       "18          Koumac      NC     78.80 -20.5667  164.2833   \n",
       "21    Saint George      US     82.94  37.1041 -113.5841   \n",
       "24         Isangel      VU     80.06 -19.5500  169.2667   \n",
       "25     Kinablangan      PH     85.46   7.6947  126.5503   \n",
       "26             Gao      ML     82.20  16.6362    1.6370   \n",
       "\n",
       "                                           Hotel Name  \n",
       "4   Shell Hebei Shijiazhuang Luancheng Xinyuan Roa...  \n",
       "5                                  hotêl doufoulougou  \n",
       "12               Cozumel Palace® All Inclusive Resort  \n",
       "15                             Hotel Tesoro Los Cabos  \n",
       "17                                Keleti Beach Resort  \n",
       "18                                         Le Monitel  \n",
       "21                        Best Western Plus Abbey Inn  \n",
       "24                                        Tanna Lodge  \n",
       "25                   Morales Eatery and Lodging House  \n",
       "26                                                     "
      ]
     },
     "execution_count": 34,
     "metadata": {},
     "output_type": "execute_result"
    }
   ],
   "source": [
    "hotel_df.head(10)"
   ]
  },
  {
   "cell_type": "code",
   "execution_count": 37,
   "id": "fc5c955f",
   "metadata": {},
   "outputs": [
    {
     "data": {
      "application/vnd.jupyter.widget-view+json": {
       "model_id": "52ab4453a5854fed9cf6548902d44c68",
       "version_major": 2,
       "version_minor": 0
      },
      "text/plain": [
       "Figure(layout=FigureLayout(height='420px'))"
      ]
     },
     "metadata": {},
     "output_type": "display_data"
    }
   ],
   "source": [
    "# Add a heatmap of temperature for the vacation spots.\n",
    "locations = hotel_df[[\"Lat\", \"Lng\"]]\n",
    "max_temp = hotel_df[\"Max Temp\"]\n",
    "fig = gmaps.figure(center=(30.0, 31.0), zoom_level=1.5)\n",
    "heat_layer = gmaps.heatmap_layer(locations, weights=max_temp, dissipating=False,\n",
    "             max_intensity=300, point_radius=4)\n",
    "marker_layer = gmaps.marker_layer(locations)\n",
    "fig.add_layer(heat_layer)\n",
    "fig.add_layer(marker_layer)\n",
    "# Call the figure to plot the data.\n",
    "fig"
   ]
  },
  {
   "cell_type": "code",
   "execution_count": 38,
   "id": "f8a20a12",
   "metadata": {},
   "outputs": [],
   "source": [
    "info_box_template = \"\"\"\n",
    "<dl>\n",
    "<dt>Hotel Name</dt><dd>{Hotel Name}</dd>\n",
    "<dt>City</dt><dd>{City}</dd>\n",
    "<dt>Country</dt><dd>{Country}</dd>\n",
    "<dt>Max Temp</dt><dd>{Max Temp} °F</dd>\n",
    "</dl>\n",
    "\"\"\""
   ]
  },
  {
   "cell_type": "code",
   "execution_count": 41,
   "id": "5de8b4d7",
   "metadata": {},
   "outputs": [
    {
     "data": {
      "text/plain": [
       "['\\n<dl>\\n<dt>Hotel Name</dt><dd>Shell Hebei Shijiazhuang Luancheng Xinyuan Road Hotel</dd>\\n<dt>City</dt><dd>Luancheng</dd>\\n<dt>Country</dt><dd>CN</dd>\\n<dt>Max Temp</dt><dd>79.29 °F</dd>\\n</dl>\\n',\n",
       " '\\n<dl>\\n<dt>Hotel Name</dt><dd>hotêl doufoulougou</dd>\\n<dt>City</dt><dd>Tabou</dd>\\n<dt>Country</dt><dd>CI</dd>\\n<dt>Max Temp</dt><dd>75.25 °F</dd>\\n</dl>\\n',\n",
       " '\\n<dl>\\n<dt>Hotel Name</dt><dd>Cozumel Palace® All Inclusive Resort</dd>\\n<dt>City</dt><dd>Cozumel</dd>\\n<dt>Country</dt><dd>MX</dd>\\n<dt>Max Temp</dt><dd>76.95 °F</dd>\\n</dl>\\n',\n",
       " '\\n<dl>\\n<dt>Hotel Name</dt><dd>Hotel Tesoro Los Cabos</dd>\\n<dt>City</dt><dd>Cabo San Lucas</dd>\\n<dt>Country</dt><dd>MX</dd>\\n<dt>Max Temp</dt><dd>79.52 °F</dd>\\n</dl>\\n',\n",
       " '\\n<dl>\\n<dt>Hotel Name</dt><dd>Keleti Beach Resort</dd>\\n<dt>City</dt><dd>Vaini</dd>\\n<dt>Country</dt><dd>TO</dd>\\n<dt>Max Temp</dt><dd>75.36 °F</dd>\\n</dl>\\n',\n",
       " '\\n<dl>\\n<dt>Hotel Name</dt><dd>Le Monitel</dd>\\n<dt>City</dt><dd>Koumac</dd>\\n<dt>Country</dt><dd>NC</dd>\\n<dt>Max Temp</dt><dd>78.8 °F</dd>\\n</dl>\\n',\n",
       " '\\n<dl>\\n<dt>Hotel Name</dt><dd>Best Western Plus Abbey Inn</dd>\\n<dt>City</dt><dd>Saint George</dd>\\n<dt>Country</dt><dd>US</dd>\\n<dt>Max Temp</dt><dd>82.94 °F</dd>\\n</dl>\\n',\n",
       " '\\n<dl>\\n<dt>Hotel Name</dt><dd>Tanna Lodge</dd>\\n<dt>City</dt><dd>Isangel</dd>\\n<dt>Country</dt><dd>VU</dd>\\n<dt>Max Temp</dt><dd>80.06 °F</dd>\\n</dl>\\n',\n",
       " '\\n<dl>\\n<dt>Hotel Name</dt><dd>Morales Eatery and Lodging House</dd>\\n<dt>City</dt><dd>Kinablangan</dd>\\n<dt>Country</dt><dd>PH</dd>\\n<dt>Max Temp</dt><dd>85.46 °F</dd>\\n</dl>\\n',\n",
       " '\\n<dl>\\n<dt>Hotel Name</dt><dd></dd>\\n<dt>City</dt><dd>Gao</dd>\\n<dt>Country</dt><dd>ML</dd>\\n<dt>Max Temp</dt><dd>82.2 °F</dd>\\n</dl>\\n',\n",
       " '\\n<dl>\\n<dt>Hotel Name</dt><dd>Waigo Splash Hotel</dd>\\n<dt>City</dt><dd>Sorong</dd>\\n<dt>Country</dt><dd>ID</dd>\\n<dt>Max Temp</dt><dd>80.22 °F</dd>\\n</dl>\\n',\n",
       " '\\n<dl>\\n<dt>Hotel Name</dt><dd>Screensaver</dd>\\n<dt>City</dt><dd>Harper</dd>\\n<dt>Country</dt><dd>LR</dd>\\n<dt>Max Temp</dt><dd>75.7 °F</dd>\\n</dl>\\n']"
      ]
     },
     "execution_count": 41,
     "metadata": {},
     "output_type": "execute_result"
    }
   ],
   "source": [
    "# Store the DataFrame Row.\n",
    "hotel_info = [info_box_template.format(**row) for index, row in hotel_df.iterrows()]\n",
    "hotel_info"
   ]
  },
  {
   "cell_type": "code",
   "execution_count": 42,
   "id": "e22c671c",
   "metadata": {},
   "outputs": [
    {
     "data": {
      "application/vnd.jupyter.widget-view+json": {
       "model_id": "cd5912275f73443db4878a4c11ec36c8",
       "version_major": 2,
       "version_minor": 0
      },
      "text/plain": [
       "Figure(layout=FigureLayout(height='420px'))"
      ]
     },
     "metadata": {},
     "output_type": "display_data"
    }
   ],
   "source": [
    "# Add a heatmap of temperature for the vacation spots and a pop-up marker for each city.\n",
    "locations = hotel_df[[\"Lat\", \"Lng\"]]\n",
    "max_temp = hotel_df[\"Max Temp\"]\n",
    "fig = gmaps.figure(center=(30.0, 31.0), zoom_level=1.5)\n",
    "heat_layer = gmaps.heatmap_layer(locations, weights=max_temp,dissipating=False,\n",
    "             max_intensity=300, point_radius=4)\n",
    "marker_layer = gmaps.marker_layer(locations, info_box_content=hotel_info)\n",
    "fig.add_layer(heat_layer)\n",
    "fig.add_layer(marker_layer)\n",
    "\n",
    "# Call the figure to plot the data.\n",
    "fig"
   ]
  },
  {
   "cell_type": "code",
   "execution_count": null,
   "id": "166c3f95",
   "metadata": {},
   "outputs": [],
   "source": []
  }
 ],
 "metadata": {
  "kernelspec": {
   "display_name": "PythonData",
   "language": "python",
   "name": "pythondata"
  },
  "language_info": {
   "codemirror_mode": {
    "name": "ipython",
    "version": 3
   },
   "file_extension": ".py",
   "mimetype": "text/x-python",
   "name": "python",
   "nbconvert_exporter": "python",
   "pygments_lexer": "ipython3",
   "version": "3.9.12"
  }
 },
 "nbformat": 4,
 "nbformat_minor": 5
}
