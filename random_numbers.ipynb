{
 "cells": [
  {
   "cell_type": "code",
   "execution_count": 12,
   "id": "c44b7f54",
   "metadata": {},
   "outputs": [],
   "source": [
    "import random\n",
    "import numpy as np"
   ]
  },
  {
   "cell_type": "code",
   "execution_count": 3,
   "id": "e1f887b1",
   "metadata": {},
   "outputs": [
    {
     "data": {
      "text/plain": [
       "0.437504111371798"
      ]
     },
     "execution_count": 3,
     "metadata": {},
     "output_type": "execute_result"
    }
   ],
   "source": [
    "random.random()"
   ]
  },
  {
   "cell_type": "code",
   "execution_count": 6,
   "id": "4ad4f033",
   "metadata": {},
   "outputs": [
    {
     "data": {
      "text/plain": [
       "-31.532823038617906"
      ]
     },
     "execution_count": 6,
     "metadata": {},
     "output_type": "execute_result"
    }
   ],
   "source": [
    "random_number = random.randint(-90,89)+random.random()\n",
    "random_number"
   ]
  },
  {
   "cell_type": "code",
   "execution_count": 10,
   "id": "cc817eb5",
   "metadata": {},
   "outputs": [],
   "source": [
    "x=1\n",
    "latitude=[]\n",
    "while x <11: \n",
    "    latitude.append(random.randint(-90,89)+random.random())\n",
    "    x+=1"
   ]
  },
  {
   "cell_type": "code",
   "execution_count": 11,
   "id": "a7a436c0",
   "metadata": {},
   "outputs": [
    {
     "data": {
      "text/plain": [
       "[40.61441690565215,\n",
       " 9.869679685483339,\n",
       " -14.288751279109617,\n",
       " -62.52829253239972,\n",
       " -15.440804867718533,\n",
       " 61.602236093978505,\n",
       " 27.962445420560915,\n",
       " -38.34894855672947,\n",
       " -20.74976776097708,\n",
       " -37.690062405445936]"
      ]
     },
     "execution_count": 11,
     "metadata": {},
     "output_type": "execute_result"
    }
   ],
   "source": [
    "latitude"
   ]
  },
  {
   "cell_type": "code",
   "execution_count": 14,
   "id": "34ad3f72",
   "metadata": {},
   "outputs": [
    {
     "data": {
      "text/plain": [
       "array([ 34.94171825,   8.30848711,  73.67524088,  40.05153727,\n",
       "       -80.03089032, -67.81051108,  16.28482826, -41.29859925,\n",
       "        65.77155053, -87.38620623, -78.39068487,  86.79700728,\n",
       "        29.88650399,  25.56423489, -37.07109604, -56.48223179,\n",
       "        23.0712631 , -37.51517017,  51.83662752,   5.43753584,\n",
       "       -79.51328123,  63.75956468,  37.06903462, -59.43872943,\n",
       "        28.94409804, -59.71781359,  68.09225127,  69.03825201,\n",
       "       -52.66461219,  72.84731364, -28.82360306,  80.25473491,\n",
       "       -73.77801454, -26.09260009,  10.22092371, -39.35548197,\n",
       "        12.68311142, -38.73988204, -78.8480289 , -70.53873762,\n",
       "        29.41372946,  78.34181493,  -9.26656837, -49.91263913,\n",
       "       -36.45945929, -47.45392827, -89.38772094,  53.64570814,\n",
       "       -82.39720627, -73.73176662])"
      ]
     },
     "execution_count": 14,
     "metadata": {},
     "output_type": "execute_result"
    }
   ],
   "source": [
    "np.random.uniform(-90,90,size=50)"
   ]
  },
  {
   "cell_type": "code",
   "execution_count": 18,
   "id": "2149325f",
   "metadata": {},
   "outputs": [],
   "source": [
    "import timeit"
   ]
  },
  {
   "cell_type": "code",
   "execution_count": 19,
   "id": "c788e9f2",
   "metadata": {},
   "outputs": [
    {
     "name": "stdout",
     "output_type": "stream",
     "text": [
      "17.2 µs ± 946 ns per loop (mean ± std. dev. of 7 runs, 100,000 loops each)\n"
     ]
    }
   ],
   "source": [
    "%timeit np.random.uniform(-90.000, 90.000, size=1500)"
   ]
  },
  {
   "cell_type": "code",
   "execution_count": 20,
   "id": "9a730cd2",
   "metadata": {},
   "outputs": [
    {
     "name": "stdout",
     "output_type": "stream",
     "text": [
      "1.77 ms ± 50.6 µs per loop (mean ± std. dev. of 7 runs, 1,000 loops each)\n"
     ]
    }
   ],
   "source": [
    "def latitudes(size):\n",
    "    latitudes = []\n",
    "    x = 0\n",
    "    while x < (size):\n",
    "        random_lat = random.randint(-90, 90) + random.random()\n",
    "        latitudes.append(random_lat)\n",
    "        x += 1\n",
    "    return latitudes\n",
    "# Call the function with 1500.\n",
    "%timeit latitudes(1500)"
   ]
  },
  {
   "cell_type": "code",
   "execution_count": 21,
   "id": "09491655",
   "metadata": {},
   "outputs": [
    {
     "name": "stdout",
     "output_type": "stream",
     "text": [
      "1.95 ms ± 160 µs per loop (mean ± std. dev. of 7 runs, 100 loops each)\n"
     ]
    }
   ],
   "source": [
    "%timeit latitudes(1500)"
   ]
  },
  {
   "cell_type": "code",
   "execution_count": 23,
   "id": "616fc7ee",
   "metadata": {},
   "outputs": [
    {
     "name": "stdout",
     "output_type": "stream",
     "text": [
      "2.05 ms ± 122 µs per loop (mean ± std. dev. of 7 runs, 1,000 loops each)\n"
     ]
    }
   ],
   "source": [
    "def latitudes_1(size):\n",
    "    x=[]\n",
    "    for i in size:\n",
    "        x.append(random.randit(-90,90)+random.random())\n",
    "    return x\n",
    "\n",
    "%timeit latitudes(1500)\n"
   ]
  },
  {
   "cell_type": "code",
   "execution_count": null,
   "id": "59200cdc",
   "metadata": {},
   "outputs": [],
   "source": []
  }
 ],
 "metadata": {
  "kernelspec": {
   "display_name": "PythonData",
   "language": "python",
   "name": "pythondata"
  },
  "language_info": {
   "codemirror_mode": {
    "name": "ipython",
    "version": 3
   },
   "file_extension": ".py",
   "mimetype": "text/x-python",
   "name": "python",
   "nbconvert_exporter": "python",
   "pygments_lexer": "ipython3",
   "version": "3.9.12"
  }
 },
 "nbformat": 4,
 "nbformat_minor": 5
}
